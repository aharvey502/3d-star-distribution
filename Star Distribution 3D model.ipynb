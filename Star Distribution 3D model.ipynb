{
 "cells": [
  {
   "cell_type": "code",
   "execution_count": null,
   "id": "5946a261",
   "metadata": {},
   "outputs": [],
   "source": [
    "# Andrew Harvey\n",
    "# A program to create a 3D interactive model of star distribution, displaying all ~9,000 naked-eye visible stars, from the Yale Bright Star Catalouge.\n",
    "import math\n",
    "import pandas as pd\n",
    "import numpy as np\n",
    "import plotly.express as px"
   ]
  },
  {
   "cell_type": "code",
   "execution_count": null,
   "id": "3162be66",
   "metadata": {},
   "outputs": [],
   "source": [
    "df = pd.read_csv(\"bsc5.csv\", skiprows = 0)"
   ]
  },
  {
   "cell_type": "code",
   "execution_count": null,
   "id": "d5c10a22",
   "metadata": {},
   "outputs": [],
   "source": [
    "n_paralaxCol = 41 # Column number containing n_parallax\n",
    "parallaxCol = 42 # Column number containing parallax"
   ]
  },
  {
   "cell_type": "code",
   "execution_count": null,
   "id": "d6841bbf",
   "metadata": {},
   "outputs": [],
   "source": [
    "# Dropping all objects that do not have a trigonometric parallax\n",
    "for row in range(len(df.index) - 1, -1, -1):\n",
    "    n_paralax = df.iloc[row][n_paralaxCol]\n",
    "    if(n_paralax == \"D\"):\n",
    "        df = df.drop(row)\n",
    "   \n",
    "df = df.dropna(subset = [\"Parallax\"])\n"
   ]
  },
  {
   "cell_type": "code",
   "execution_count": null,
   "id": "b7947f3d",
   "metadata": {},
   "outputs": [],
   "source": [
    "# Compute distance\n",
    "parsecs = []\n",
    "# Replace zeros in the parallax column to avoid division by zero\n",
    "\n",
    "for row in range(len(df.index)):\n",
    "    parallax = df.iloc[row][parallaxCol]\n",
    "    if(parallax != 0):\n",
    "        parsecs.append( 1.0 / parallax)\n",
    "    \n",
    "df[\"Distance\"] = parsecs\n"
   ]
  },
  {
   "cell_type": "code",
   "execution_count": null,
   "id": "55057a4b",
   "metadata": {},
   "outputs": [],
   "source": [
    "# Converting RA and DEC from degrees to radians:\n",
    "\n",
    "ra = [] # array to store right ascension in radians\n",
    "dec = [] # array to store declination in radians\n",
    "\n",
    "# 1 hr = 15 degrees\n",
    "# 1 degree = pi/180\n",
    "\n",
    "# We can convert RA to degrees by using the formula: degrees = (RA hr) + (RA min)/60 + (RA sec)/3600 * 15\n",
    "# and then to radians: degrees * pi/180\n",
    "\n",
    "for row in range(len(df.index)):\n",
    "    rah = df.iloc[row][19]\n",
    "    ram = df.iloc[row][20]\n",
    "    ras = df.iloc[row][21]\n",
    "    \n",
    "    RAdegrees = (rah + ram/60 + ras/3600) * 15\n",
    "    RAradians = RAdegrees * (math.pi / 180)\n",
    "    \n",
    "    if RAradians > math.pi:\n",
    "        ra.append(RAradians - (2 * math.pi))\n",
    "    else:\n",
    "        ra.append(RAradians)\n",
    "    \n",
    "    \n",
    "for row in range(len(df.index)):\n",
    "    sign = df.iloc[row][22]\n",
    "    ded = df.iloc[row][23]\n",
    "    dem = df.iloc[row][24]\n",
    "    des = df.iloc[row][25]\n",
    "    \n",
    "    DECdegrees = ded + ((dem/60 + des/3600))\n",
    "    DECradians = DECdegrees * (math.pi / 180)\n",
    "    \n",
    "    if(sign == \"-\"):\n",
    "        dec.append(DECradians * -1)\n",
    "    else:\n",
    "        dec.append(DECradians)"
   ]
  },
  {
   "cell_type": "code",
   "execution_count": null,
   "id": "2d7aca6f",
   "metadata": {},
   "outputs": [],
   "source": [
    "df[\"RA radians\"] = ra\n",
    "df[\"DEC radians\"] = dec"
   ]
  },
  {
   "cell_type": "code",
   "execution_count": null,
   "id": "acb7b67a",
   "metadata": {},
   "outputs": [],
   "source": [
    "# This cell performs coordinate transformation from a spherical coordinate system to a cartesian system.\n",
    "# x-axis: toward vernal equinox\n",
    "# x-y plane: plane of the celestial equator\n",
    "# z-axis: toward the celestial equator \n",
    "\n",
    "# Columns x, y, and z will have the distance to the stars in parsecs in the equatorial frame of reference.\n",
    "x = []\n",
    "y = []\n",
    "z = []\n",
    "distanceCol = 53\n",
    "raCol = 54\n",
    "decCol = 55\n",
    "# Compute 3D Coordinates\n",
    "for row in range(len(df.index)):\n",
    "    distance = df.iloc[row][distanceCol]\n",
    "    ra = df.iloc[row][raCol]\n",
    "    dec = df.iloc[row][decCol]\n",
    "    \n",
    "    x.append(distance * np.cos(dec) * np.cos(ra))\n",
    "    y.append(distance * np.cos(dec) * np.sin(ra))\n",
    "    z.append(distance * np.sin(dec))\n",
    "    \n",
    "# Add x, y, z columns to the dataframe\n",
    "df[\"x\"] = x\n",
    "df[\"y\"] = y\n",
    "df[\"z\"] = z"
   ]
  },
  {
   "cell_type": "code",
   "execution_count": null,
   "id": "fb198ecc",
   "metadata": {},
   "outputs": [],
   "source": [
    "# Get the colors for each star\n",
    "# The stars on the diagram will be color-coded based on their spectral classification using the Morgan–Keenan (MK) system.\n",
    "colors = []\n",
    "spectral_type_col = 37\n",
    "for row in range(len(df.index)):\n",
    "    spectral_type = df.iloc[row][spectral_type_col]\n",
    "    star_color = spectral_type[0:1]\n",
    "    if(star_color == \"O\"):\n",
    "        colors.append(\"midnightblue\")\n",
    "    elif(star_color == \"B\"):\n",
    "        colors.append(\"mediumblue\")\n",
    "    elif(star_color == \"A\"):\n",
    "        colors.append(\"lightblue\")\n",
    "    elif(star_color == \"F\"):\n",
    "        colors.append(\"green\")\n",
    "    elif(star_color == \"G\"):\n",
    "        colors.append(\"yellow\")\n",
    "    elif(star_color == \"K\"):\n",
    "        colors.append(\"orange\")\n",
    "    elif(star_color == \"M\"):\n",
    "        colors.append(\"red\")\n",
    "    else:\n",
    "        colors.append(\"black\")\n",
    "        \n",
    "df[\"color\"] = colors \n",
    "    "
   ]
  },
  {
   "cell_type": "code",
   "execution_count": null,
   "id": "5b803022",
   "metadata": {},
   "outputs": [],
   "source": [
    "# Creates a 3D distribution of the stars based on their distance from earth.\n",
    "# Hovering over a star in the model will display its position, HR number, distance (PC), and radial velocity (km/s).\n",
    "fig = px.scatter_3d(data_frame = df, x = df[\"x\"], y = df [\"y\"], z = df[\"z\"], \n",
    "                    hover_data = [\"HR\", \"Distance\", \"RadVel\"], \n",
    "                    color = df[\"color\"], color_discrete_map=\"identity\")\n",
    "\n",
    "fig.update_layout(scene = dict(\n",
    "                    xaxis_title='X (pc), + towards vernal equinox',\n",
    "                    yaxis_title='Y (pc)',\n",
    "                    zaxis_title='Z (pc), + towards NCP'),\n",
    "                    width=900,\n",
    "                    height=900\n",
    "                  )\n",
    "\n",
    "fig.update_traces(marker=dict(size=2))\n",
    "# Enjoy the view of our local universe!\n",
    "fig.show()"
   ]
  },
  {
   "cell_type": "code",
   "execution_count": null,
   "id": "320e108d",
   "metadata": {},
   "outputs": [],
   "source": []
  }
 ],
 "metadata": {
  "kernelspec": {
   "display_name": "Python 3 (ipykernel)",
   "language": "python",
   "name": "python3"
  },
  "language_info": {
   "codemirror_mode": {
    "name": "ipython",
    "version": 3
   },
   "file_extension": ".py",
   "mimetype": "text/x-python",
   "name": "python",
   "nbconvert_exporter": "python",
   "pygments_lexer": "ipython3",
   "version": "3.10.7"
  }
 },
 "nbformat": 4,
 "nbformat_minor": 5
}
